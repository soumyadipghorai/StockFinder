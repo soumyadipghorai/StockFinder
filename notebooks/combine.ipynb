{
 "cells": [
  {
   "cell_type": "code",
   "execution_count": 2,
   "id": "3f40e898",
   "metadata": {},
   "outputs": [],
   "source": [
    "import json \n",
    "\n",
    "with open(\"../data/all_company_1_100.json\", \"r\") as json_file:\n",
    "    all_company_1_100 = json.load(json_file)   \n",
    "with open(\"../data/all_company_101_200.json\", \"r\") as json_file:\n",
    "    all_company_101_200 = json.load(json_file)   \n"
   ]
  },
  {
   "cell_type": "code",
   "execution_count": 4,
   "id": "7dfbe0f4",
   "metadata": {},
   "outputs": [
    {
     "data": {
      "text/plain": [
       "2024"
      ]
     },
     "execution_count": 4,
     "metadata": {},
     "output_type": "execute_result"
    }
   ],
   "source": [
    "all_company = {}\n",
    "for company in all_company_1_100 : \n",
    "    if company not in all_company : \n",
    "        all_company[company] = all_company_1_100[company]\n",
    "for company in all_company_101_200 : \n",
    "    if company not in all_company : \n",
    "        all_company[company] = all_company_101_200[company]\n",
    "\n",
    "len(all_company)"
   ]
  },
  {
   "cell_type": "code",
   "execution_count": 6,
   "id": "2820d234",
   "metadata": {},
   "outputs": [],
   "source": [
    "with open(\"../data/all_company.json\", \"w\") as json_file:\n",
    "    json.dump(all_company, json_file)"
   ]
  },
  {
   "cell_type": "code",
   "execution_count": null,
   "id": "1290aba3",
   "metadata": {},
   "outputs": [],
   "source": []
  }
 ],
 "metadata": {
  "kernelspec": {
   "display_name": "Python 3",
   "language": "python",
   "name": "python3"
  },
  "language_info": {
   "codemirror_mode": {
    "name": "ipython",
    "version": 3
   },
   "file_extension": ".py",
   "mimetype": "text/x-python",
   "name": "python",
   "nbconvert_exporter": "python",
   "pygments_lexer": "ipython3",
   "version": "3.12.0"
  }
 },
 "nbformat": 4,
 "nbformat_minor": 5
}
